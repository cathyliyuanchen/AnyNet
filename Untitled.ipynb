{
 "cells": [
  {
   "cell_type": "code",
   "execution_count": 6,
   "metadata": {},
   "outputs": [],
   "source": [
    "import numpy as np\n",
    "from sklearn.decomposition import PCA\n",
    "import cv2\n",
    "import pandas as pd\n",
    "from matplotlib import pyplot as plt"
   ]
  },
  {
   "cell_type": "code",
   "execution_count": 23,
   "metadata": {},
   "outputs": [
    {
     "name": "stdout",
     "output_type": "stream",
     "text": [
      "mean\n",
      "[136.48057188 134.08377312 130.58581187]\n",
      "std\n",
      "[65.60052868 61.98981093 61.94200612]\n",
      "mean\n",
      "[130.58581187 134.08377312 136.48057188]\n",
      "std\n",
      "[61.94200612 61.98981093 65.60052868]\n"
     ]
    }
   ],
   "source": [
    "image = [str(i) for i in range(1, 6)]\n",
    "filepath = './dataset/'\n",
    "left_train  = [filepath+'colored_0/carla-left-' +img+'00.png' for img in image]\n",
    "right_train = [filepath+'colored_1/carla-right-'+img+'00.png' for img in image]\n",
    "\n",
    "data = np.array([cv2.imread(i) for i in left_train+right_train])   #BGR\n",
    "data.shape # (n, 600, 800, 3)\n",
    "data = data.reshape(-1,3)/255\n",
    "data[:, 0], data[:, 2] = data[:, 2], data[:, 0].copy()\n",
    "\n",
    "print('mean')\n",
    "print(np.mean(data, axis=0))\n",
    "print('std')\n",
    "print(np.std(data, axis=0))\n",
    "\n",
    "pca = PCA()\n",
    "pca.fit(data)\n",
    "print(pca.components_)\n",
    "print(pca.explained_variance_)"
   ]
  },
  {
   "cell_type": "code",
   "execution_count": 20,
   "metadata": {},
   "outputs": [
    {
     "data": {
      "image/png": "[encoded data removed]",
      "text/plain": [
       "<Figure size 432x288 with 1 Axes>"
      ]
     },
     "metadata": {
      "needs_background": "light"
     },
     "output_type": "display_data"
    }
   ],
   "source": [
    "data = pd.read_pickle(\"./dataset/disp_occ/carla-depth-100.pkl\")\n",
    "data = np.minimum(data, np.ones((600, 800))*0.01)\n",
    "plt.imshow(data, cmap=\"viridis_r\")\n",
    "plt.savefig('color.png')"
   ]
  },
  {
   "cell_type": "code",
   "execution_count": 10,
   "metadata": {},
   "outputs": [
    {
     "data": {
      "text/plain": [
       "array([1, 2, 6, 7])"
      ]
     },
     "execution_count": 10,
     "metadata": {},
     "output_type": "execute_result"
    }
   ],
   "source": [
    "np.minimum(np.array([1,2,6,8]), np.array([7,2,6,7]))"
   ]
  },
  {
   "cell_type": "code",
   "execution_count": null,
   "metadata": {},
   "outputs": [],
   "source": []
  }
 ],
 "metadata": {
  "kernelspec": {
   "display_name": "Python 3",
   "language": "python",
   "name": "python3"
  },
  "language_info": {
   "codemirror_mode": {
    "name": "ipython",
    "version": 3
   },
   "file_extension": ".py",
   "mimetype": "text/x-python",
   "name": "python",
   "nbconvert_exporter": "python",
   "pygments_lexer": "ipython3",
   "version": "3.6.8"
  }
 },
 "nbformat": 4,
 "nbformat_minor": 2
}
